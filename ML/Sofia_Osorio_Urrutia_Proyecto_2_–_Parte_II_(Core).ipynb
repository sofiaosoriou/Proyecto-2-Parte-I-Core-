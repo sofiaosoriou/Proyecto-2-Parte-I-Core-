{
  "nbformat": 4,
  "nbformat_minor": 0,
  "metadata": {
    "colab": {
      "provenance": []
    },
    "kernelspec": {
      "name": "python3",
      "display_name": "Python 3"
    },
    "language_info": {
      "name": "python"
    }
  },
  "cells": [
    {
      "cell_type": "markdown",
      "source": [
        "# Proyecto 2 – Parte II (Core)\n",
        "## Proyecto 2: Análisis y Selección de Problema\n",
        "\n",
        "## Parte II: Preprocesamiento y Optimización"
      ],
      "metadata": {
        "id": "ztAjjXMKIyFd"
      }
    },
    {
      "cell_type": "markdown",
      "source": [
        "## Parte 1: Preprocesamiento de Datos :"
      ],
      "metadata": {
        "id": "MpjWx5Eru-YM"
      }
    },
    {
      "cell_type": "code",
      "source": [
        "!pip install lightgbm optuna"
      ],
      "metadata": {
        "colab": {
          "base_uri": "https://localhost:8080/"
        },
        "id": "zIuEOcpKxBIv",
        "outputId": "ac4259ee-bec7-491d-9655-368d9f2dcac0"
      },
      "execution_count": 17,
      "outputs": [
        {
          "output_type": "stream",
          "name": "stdout",
          "text": [
            "Requirement already satisfied: lightgbm in /usr/local/lib/python3.11/dist-packages (4.5.0)\n",
            "Collecting optuna\n",
            "  Downloading optuna-4.4.0-py3-none-any.whl.metadata (17 kB)\n",
            "Requirement already satisfied: numpy>=1.17.0 in /usr/local/lib/python3.11/dist-packages (from lightgbm) (2.0.2)\n",
            "Requirement already satisfied: scipy in /usr/local/lib/python3.11/dist-packages (from lightgbm) (1.15.3)\n",
            "Collecting alembic>=1.5.0 (from optuna)\n",
            "  Downloading alembic-1.16.4-py3-none-any.whl.metadata (7.3 kB)\n",
            "Collecting colorlog (from optuna)\n",
            "  Downloading colorlog-6.9.0-py3-none-any.whl.metadata (10 kB)\n",
            "Requirement already satisfied: packaging>=20.0 in /usr/local/lib/python3.11/dist-packages (from optuna) (24.2)\n",
            "Requirement already satisfied: sqlalchemy>=1.4.2 in /usr/local/lib/python3.11/dist-packages (from optuna) (2.0.41)\n",
            "Requirement already satisfied: tqdm in /usr/local/lib/python3.11/dist-packages (from optuna) (4.67.1)\n",
            "Requirement already satisfied: PyYAML in /usr/local/lib/python3.11/dist-packages (from optuna) (6.0.2)\n",
            "Requirement already satisfied: Mako in /usr/lib/python3/dist-packages (from alembic>=1.5.0->optuna) (1.1.3)\n",
            "Requirement already satisfied: typing-extensions>=4.12 in /usr/local/lib/python3.11/dist-packages (from alembic>=1.5.0->optuna) (4.14.1)\n",
            "Requirement already satisfied: greenlet>=1 in /usr/local/lib/python3.11/dist-packages (from sqlalchemy>=1.4.2->optuna) (3.2.3)\n",
            "Downloading optuna-4.4.0-py3-none-any.whl (395 kB)\n",
            "\u001b[2K   \u001b[90m━━━━━━━━━━━━━━━━━━━━━━━━━━━━━━━━━━━━━━━━\u001b[0m \u001b[32m395.9/395.9 kB\u001b[0m \u001b[31m24.9 MB/s\u001b[0m eta \u001b[36m0:00:00\u001b[0m\n",
            "\u001b[?25hDownloading alembic-1.16.4-py3-none-any.whl (247 kB)\n",
            "\u001b[2K   \u001b[90m━━━━━━━━━━━━━━━━━━━━━━━━━━━━━━━━━━━━━━━━\u001b[0m \u001b[32m247.0/247.0 kB\u001b[0m \u001b[31m18.2 MB/s\u001b[0m eta \u001b[36m0:00:00\u001b[0m\n",
            "\u001b[?25hDownloading colorlog-6.9.0-py3-none-any.whl (11 kB)\n",
            "Installing collected packages: colorlog, alembic, optuna\n",
            "Successfully installed alembic-1.16.4 colorlog-6.9.0 optuna-4.4.0\n"
          ]
        }
      ]
    },
    {
      "cell_type": "code",
      "source": [
        "import pandas as pd\n",
        "import optuna\n",
        "import matplotlib.pyplot as plt\n",
        "from sklearn.metrics import confusion_matrix\n",
        "import seaborn as sns\n",
        "import matplotlib.pyplot as plt\n",
        "from sklearn.model_selection import train_test_split, cross_val_score\n",
        "from sklearn.compose import ColumnTransformer\n",
        "from sklearn.preprocessing import StandardScaler, OrdinalEncoder, OneHotEncoder\n",
        "from sklearn.pipeline import Pipeline\n",
        "from lightgbm import LGBMClassifier\n",
        "from sklearn.metrics import accuracy_score"
      ],
      "metadata": {
        "id": "Z0FF-ojzw1sf"
      },
      "execution_count": 45,
      "outputs": []
    },
    {
      "cell_type": "markdown",
      "source": [
        "### Dataset Seleccionado: Dataset N°1"
      ],
      "metadata": {
        "id": "uWjyMpSyvXJn"
      }
    },
    {
      "cell_type": "code",
      "source": [
        "\n",
        "\n",
        "df_pg = sns.load_dataset(\"penguins\")\n",
        "df_pg.info()\n",
        "\n",
        "df_pg[df_pg[\"sex\"].isna()]\n",
        "df_pg[df_pg[\"species\"].isna()]\n",
        "df_pg[df_pg[\"island\"].isna()]\n",
        "\n",
        "df_pg.head()\n",
        "\n",
        "df_pg[df_pg[\"sex\"].isna()]\n",
        "\n",
        "df_pg.groupby([\"species\", \"island\"])[\"sex\"].value_counts()\n",
        "\n",
        "#Especie  Adelie Isla Dream  hay más Male asíque completaré los Nan con Male\n",
        "#Especie  Gentoo Isla Biscoe  hay más Male asíque completaré los Nan con Male\n",
        "df_pg.loc[(df_pg[\"island\"].isin([\"Dream\", \"Biscoe\"])) & (df_pg[\"sex\"].isna()),\"sex\"] = \"Male\"\n",
        "\n",
        "#Especie  Adelie Isla Torgersen hay más Female asíque completaré los Nan con Female\n",
        "df_pg.loc[(df_pg[\"species\"].isin([\"Adelie\"])) & (df_pg[\"island\"].isin([\"Torgersen\"])) &  (df_pg[\"sex\"].isna()), \"sex\"] = \"Female\"\n",
        "\n",
        "\n",
        "df_pg[\"sex\"].value_counts()\n",
        "df_pg.info()\n",
        "\n",
        "df_pg[ df_pg[\"bill_length_mm\"].isna() &    df_pg[\"bill_depth_mm\"].isna() &    df_pg[\"flipper_length_mm\"].isna() &    df_pg[\"body_mass_g\"].isna()].shape\n",
        "\n",
        "df_pg = df_pg.drop( df_pg[df_pg[\"bill_length_mm\"].isna() & df_pg[\"bill_depth_mm\"].isna() & df_pg[\"flipper_length_mm\"].isna() & df_pg[\"body_mass_g\"].isna() ].index)\n",
        "\n",
        "df_pg.describe().T\n",
        "\n",
        "df_pg.duplicated().sum()"
      ],
      "metadata": {
        "id": "J-kbg_7KurJB"
      },
      "execution_count": null,
      "outputs": []
    },
    {
      "cell_type": "markdown",
      "source": [
        "Modelo seleccionado: LGBMClassifier   \n",
        "Dataset N°1 : Pingüinos ---> target: species (categoria)  ---> clasificador  "
      ],
      "metadata": {
        "id": "Aj67ZIqQvg6Q"
      }
    },
    {
      "cell_type": "code",
      "source": [
        "# Division de features y target.\n",
        "X_pg = df_pg.drop(columns=\"species\")\n",
        "#y = df[\"species_target\"]\n",
        "y_pg = df_pg[\"species\"] #el modelo de arbol si entiende el target en string"
      ],
      "metadata": {
        "id": "-HV59_LRvxEo"
      },
      "execution_count": 20,
      "outputs": []
    },
    {
      "cell_type": "code",
      "source": [
        "# Split.\n",
        "X_train_pg, X_test_pg, y_train_pg, y_test_pg = train_test_split(X_pg, y_pg, test_size=0.2)"
      ],
      "metadata": {
        "id": "S4knbFjEvyMG"
      },
      "execution_count": 21,
      "outputs": []
    },
    {
      "cell_type": "code",
      "execution_count": 16,
      "metadata": {
        "id": "lnzhpgenH8aE"
      },
      "outputs": [],
      "source": [
        "# preprocesamiento\n",
        "# Dividir features.\n",
        "num_cols_pg = [\"bill_length_mm\", \"bill_depth_mm\", \"flipper_length_mm\", \"body_mass_g\"] #features numericas\n",
        "#ord_cols = [\"class\", \"alone\"] #features ordinales\n",
        "nom_cols_pg = [\"sex\", \"island\"] #features nominales\n",
        "\n",
        "preprocessor = ColumnTransformer(transformers=[\n",
        "    (\"num\", StandardScaler(), num_cols_pg),\n",
        "    (\"nom\", OneHotEncoder(handle_unknown='ignore'), nom_cols_pg)\n",
        "])"
      ]
    },
    {
      "cell_type": "code",
      "source": [
        "# Optuna\n",
        "def objective_pg(trial):\n",
        "    params = {\n",
        "        \"n_estimators\": trial.suggest_int(\"n_estimators\", 50, 500),\n",
        "        \"max_depth\": trial.suggest_int(\"max_depth\", 3, 30)\n",
        "    }\n",
        "\n",
        "    model = Pipeline([\n",
        "        (\"pre\", preprocessor),\n",
        "        (\"lgbm\", LGBMClassifier(random_state=42, **params)) #modelo de clasificación\n",
        "    ])\n",
        "\n",
        "    score = cross_val_score(model, X_train_pg, y_train_pg, cv=3, scoring=\"accuracy\", n_jobs=-1)\n",
        "    return score.mean()\n",
        "\n",
        "study_clf = optuna.create_study(direction=\"maximize\")\n",
        "study_clf.optimize(objective_pg, n_trials=20)\n",
        "optuna_bparams = study_clf.best_params\n",
        "\n",
        "print(\"Mejores hiperparámetros (clasificación):\", optuna_bparams)"
      ],
      "metadata": {
        "colab": {
          "base_uri": "https://localhost:8080/"
        },
        "id": "CPHapl9kw7lT",
        "outputId": "9520a724-fb18-4fb6-870c-8d97cf4f2b3c"
      },
      "execution_count": 28,
      "outputs": [
        {
          "output_type": "stream",
          "name": "stderr",
          "text": [
            "[I 2025-07-15 20:28:42,493] A new study created in memory with name: no-name-8edb9954-c1f8-48b0-a82c-de0dddee2b0b\n",
            "[I 2025-07-15 20:28:50,102] Trial 0 finished with value: 0.9963369963369964 and parameters: {'n_estimators': 182, 'max_depth': 10}. Best is trial 0 with value: 0.9963369963369964.\n",
            "[I 2025-07-15 20:28:50,648] Trial 1 finished with value: 0.9963369963369964 and parameters: {'n_estimators': 360, 'max_depth': 9}. Best is trial 0 with value: 0.9963369963369964.\n",
            "[I 2025-07-15 20:28:51,358] Trial 2 finished with value: 0.9963369963369964 and parameters: {'n_estimators': 447, 'max_depth': 6}. Best is trial 0 with value: 0.9963369963369964.\n",
            "[I 2025-07-15 20:28:51,630] Trial 3 finished with value: 0.989010989010989 and parameters: {'n_estimators': 70, 'max_depth': 27}. Best is trial 0 with value: 0.9963369963369964.\n",
            "[I 2025-07-15 20:28:52,019] Trial 4 finished with value: 0.9963369963369964 and parameters: {'n_estimators': 194, 'max_depth': 24}. Best is trial 0 with value: 0.9963369963369964.\n",
            "[I 2025-07-15 20:28:52,655] Trial 5 finished with value: 0.9963369963369964 and parameters: {'n_estimators': 478, 'max_depth': 15}. Best is trial 0 with value: 0.9963369963369964.\n",
            "[I 2025-07-15 20:28:53,369] Trial 6 finished with value: 0.9963369963369964 and parameters: {'n_estimators': 417, 'max_depth': 21}. Best is trial 0 with value: 0.9963369963369964.\n",
            "[I 2025-07-15 20:28:54,125] Trial 7 finished with value: 0.9963369963369964 and parameters: {'n_estimators': 500, 'max_depth': 8}. Best is trial 0 with value: 0.9963369963369964.\n",
            "[I 2025-07-15 20:28:54,734] Trial 8 finished with value: 0.9963369963369964 and parameters: {'n_estimators': 353, 'max_depth': 14}. Best is trial 0 with value: 0.9963369963369964.\n",
            "[I 2025-07-15 20:28:55,122] Trial 9 finished with value: 0.989010989010989 and parameters: {'n_estimators': 146, 'max_depth': 22}. Best is trial 0 with value: 0.9963369963369964.\n",
            "[I 2025-07-15 20:28:55,590] Trial 10 finished with value: 0.989010989010989 and parameters: {'n_estimators': 237, 'max_depth': 3}. Best is trial 0 with value: 0.9963369963369964.\n",
            "[I 2025-07-15 20:28:56,085] Trial 11 finished with value: 0.9963369963369964 and parameters: {'n_estimators': 319, 'max_depth': 11}. Best is trial 0 with value: 0.9963369963369964.\n",
            "[I 2025-07-15 20:28:56,584] Trial 12 finished with value: 0.9963369963369964 and parameters: {'n_estimators': 292, 'max_depth': 10}. Best is trial 0 with value: 0.9963369963369964.\n",
            "[I 2025-07-15 20:28:57,580] Trial 13 finished with value: 0.9963369963369964 and parameters: {'n_estimators': 380, 'max_depth': 18}. Best is trial 0 with value: 0.9963369963369964.\n",
            "[I 2025-07-15 20:28:58,299] Trial 14 finished with value: 0.989010989010989 and parameters: {'n_estimators': 151, 'max_depth': 5}. Best is trial 0 with value: 0.9963369963369964.\n",
            "[I 2025-07-15 20:28:59,313] Trial 15 finished with value: 0.9963369963369964 and parameters: {'n_estimators': 242, 'max_depth': 12}. Best is trial 0 with value: 0.9963369963369964.\n",
            "[I 2025-07-15 20:28:59,868] Trial 16 finished with value: 0.9926739926739927 and parameters: {'n_estimators': 79, 'max_depth': 17}. Best is trial 0 with value: 0.9963369963369964.\n",
            "[I 2025-07-15 20:29:00,317] Trial 17 finished with value: 0.9963369963369964 and parameters: {'n_estimators': 248, 'max_depth': 8}. Best is trial 0 with value: 0.9963369963369964.\n",
            "[I 2025-07-15 20:29:00,671] Trial 18 finished with value: 0.9926739926739927 and parameters: {'n_estimators': 173, 'max_depth': 30}. Best is trial 0 with value: 0.9963369963369964.\n",
            "[I 2025-07-15 20:29:01,159] Trial 19 finished with value: 0.9963369963369964 and parameters: {'n_estimators': 324, 'max_depth': 12}. Best is trial 0 with value: 0.9963369963369964.\n"
          ]
        },
        {
          "output_type": "stream",
          "name": "stdout",
          "text": [
            "Mejores hiperparámetros (clasificación): {'n_estimators': 182, 'max_depth': 10}\n"
          ]
        }
      ]
    },
    {
      "cell_type": "code",
      "source": [
        "# Pipeline.\n",
        "model_pg = Pipeline([\n",
        "        (\"pp\", preprocessor),\n",
        "        (\"model\", LGBMClassifier(random_state=42, **optuna_bparams))\n",
        "    ])\n",
        "\n",
        "# Entrenamiento.\n",
        "model_pg.fit(X_train_pg, y_train_pg)\n",
        "\n",
        "# Prediccion.\n",
        "y_pred_pg = model_pg.predict(X_test_pg)"
      ],
      "metadata": {
        "id": "RDiU5IMdxawg"
      },
      "execution_count": null,
      "outputs": []
    },
    {
      "cell_type": "code",
      "source": [
        "# Evaluacion.\n",
        "accuracy_pg = accuracy_score(y_test_pg, y_pred_pg)\n",
        "accuracy_pg"
      ],
      "metadata": {
        "colab": {
          "base_uri": "https://localhost:8080/"
        },
        "id": "tktMVifJxsuC",
        "outputId": "848debe3-011c-4bd3-c988-2611d722a0c8"
      },
      "execution_count": 35,
      "outputs": [
        {
          "output_type": "execute_result",
          "data": {
            "text/plain": [
              "1.0"
            ]
          },
          "metadata": {},
          "execution_count": 35
        }
      ]
    },
    {
      "cell_type": "markdown",
      "source": [
        "El accuracy de 1.0 indica que puede haber un sobre ajuste"
      ],
      "metadata": {
        "id": "8g1TsBrhx8IB"
      }
    },
    {
      "cell_type": "code",
      "source": [
        "from sklearn.model_selection import GridSearchCV"
      ],
      "metadata": {
        "id": "SrxhTR99y62N"
      },
      "execution_count": 36,
      "outputs": []
    },
    {
      "cell_type": "code",
      "source": [
        "param_grid = {\n",
        "    \"model__n_estimators\": [50, 100, 200],\n",
        "    \"model__max_depth\": [3, 5, 10]\n",
        "}\n",
        "\n",
        "grid_search = GridSearchCV(model_pg, param_grid, cv=3, scoring=\"accuracy\", n_jobs=-1)\n",
        "grid_search.fit(X_train_pg, y_train_pg)"
      ],
      "metadata": {
        "id": "OnJvgaTGy-Id"
      },
      "execution_count": null,
      "outputs": []
    },
    {
      "cell_type": "code",
      "source": [
        "y_pred_gridsearch_pg = model_pg.predict(X_test_pg)\n",
        "accuracy_pg = accuracy_score(y_test_pg, y_pred_gridsearch_pg)\n",
        "accuracy_pg"
      ],
      "metadata": {
        "colab": {
          "base_uri": "https://localhost:8080/"
        },
        "id": "-eJ5Ztbw0NB2",
        "outputId": "a8b6cda0-0b8a-4590-87b9-8944185c6a50"
      },
      "execution_count": 43,
      "outputs": [
        {
          "output_type": "stream",
          "name": "stderr",
          "text": [
            "/usr/local/lib/python3.11/dist-packages/sklearn/utils/deprecation.py:151: FutureWarning: 'force_all_finite' was renamed to 'ensure_all_finite' in 1.6 and will be removed in 1.8.\n",
            "  warnings.warn(\n"
          ]
        },
        {
          "output_type": "execute_result",
          "data": {
            "text/plain": [
              "1.0"
            ]
          },
          "metadata": {},
          "execution_count": 43
        }
      ]
    },
    {
      "cell_type": "code",
      "metadata": {
        "colab": {
          "base_uri": "https://localhost:8080/",
          "height": 564
        },
        "id": "0882f80e",
        "outputId": "4ad95514-f4a2-409f-89e5-7259a71d27af"
      },
      "source": [
        "cm = confusion_matrix(y_test_pg, y_pred_gridsearch_pg)\n",
        "\n",
        "plt.figure(figsize=(8, 6))\n",
        "sns.heatmap(cm, annot=True, fmt=\"d\", cmap=\"Blues\", xticklabels=model_pg.classes_, yticklabels=model_pg.classes_)\n",
        "plt.xlabel(\"Predicted\")\n",
        "plt.ylabel(\"Actual\")\n",
        "plt.title(\"Confusion Matrix\")\n",
        "plt.show()"
      ],
      "execution_count": 46,
      "outputs": [
        {
          "output_type": "display_data",
          "data": {
            "text/plain": [
              "<Figure size 800x600 with 2 Axes>"
            ],
            "image/png": "[encoded data removed]"
          },
          "metadata": {}
        }
      ]
    }
  ]
}